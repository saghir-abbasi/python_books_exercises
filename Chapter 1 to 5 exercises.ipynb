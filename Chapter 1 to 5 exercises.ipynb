{
 "cells": [
  {
   "cell_type": "markdown",
   "metadata": {},
   "source": [
    "Chapter 2....\n",
    "Variables and SIMPLE DATA TYPES"
   ]
  },
  {
   "cell_type": "code",
   "execution_count": 1,
   "metadata": {},
   "outputs": [
    {
     "name": "stdout",
     "output_type": "stream",
     "text": [
      "Hello World\n"
     ]
    }
   ],
   "source": [
    "#2-1. Simple Message: Assign a message to a variable, and then print that message.\n",
    "\n",
    "message = \"Hello World\"\n",
    "print(message)"
   ]
  },
  {
   "cell_type": "code",
   "execution_count": 2,
   "metadata": {},
   "outputs": [
    {
     "name": "stdout",
     "output_type": "stream",
     "text": [
      "Hello World\n",
      "Welcome to PIAIC\n"
     ]
    }
   ],
   "source": [
    "# 2-2. Simple Messages: Assign a message to a variable, and print that message.\n",
    "#       Then change the value of the variable to a new message, and print the new message\n",
    "message = \"Hello World\"\n",
    "print(message)\n",
    "message = \"Welcome to PIAIC\"\n",
    "print(message)"
   ]
  },
  {
   "cell_type": "code",
   "execution_count": 3,
   "metadata": {},
   "outputs": [
    {
     "name": "stdout",
     "output_type": "stream",
     "text": [
      "Hello Eric, would you like to learn some Python today?\n"
     ]
    }
   ],
   "source": [
    "# 2-3. Personal Message: Use a variable to represent a person’s name, and print\n",
    "# a message to that person. Your message should be simple, such as, “Hello Eric,\n",
    "# would you like to learn some Python today?”\n",
    "\n",
    "name = \"Eric\"\n",
    "message = f\"Hello {name}, would you like to learn some Python today?\"\n",
    "print(message)"
   ]
  },
  {
   "cell_type": "code",
   "execution_count": 5,
   "metadata": {},
   "outputs": [
    {
     "name": "stdout",
     "output_type": "stream",
     "text": [
      "zahid\n",
      "ZAHID\n",
      "Zahid\n"
     ]
    }
   ],
   "source": [
    "# 2-4. Name Cases: Use a variable to represent a person’s name, and then print\n",
    "# that person’s name in lowercase, uppercase, and title case.\n",
    "\n",
    "name = \"Zahid\"\n",
    "\n",
    "print(name.lower())\n",
    "print(name.upper())\n",
    "print(name.title())"
   ]
  },
  {
   "cell_type": "code",
   "execution_count": 7,
   "metadata": {},
   "outputs": [
    {
     "name": "stdout",
     "output_type": "stream",
     "text": [
      "Albert Einstein once said, \"A person who never made a mistake never tried anything new.\"\n"
     ]
    }
   ],
   "source": [
    "# 2-5. Famous Quote: Find a quote from a famous person you admire. Print the\n",
    "# quote and the name of its author. Your output should look something like the\n",
    "# following, including the quotation marks:\n",
    "# Albert Einstein once said, “A person who never made a mistake never tried anything new.”\n",
    "\n",
    "print(f\"Albert Einstein once said, \\\"A person who never made a mistake never tried anything new.\\\"\")\n",
    "\n"
   ]
  },
  {
   "cell_type": "code",
   "execution_count": 10,
   "metadata": {},
   "outputs": [
    {
     "name": "stdout",
     "output_type": "stream",
     "text": [
      "Albert Einstein once said, \"A person who never made a mistake never tried anything new.\"\n"
     ]
    }
   ],
   "source": [
    "# 2-6. Famous Quote 2: Repeat Exercise 2-5, but this time, represent the famous\n",
    "# person’s name using a variable called famous_person. Then compose your message \n",
    "# and represent it with a new variable called message. Print your message.\n",
    "\n",
    "person = \"Albert Einstein\"\n",
    "message = \"A person who never made a mistake never tried anything new.\"\n",
    "\n",
    "print(f\"{person} once said, \\\"{message}\\\"\")\n",
    "\n"
   ]
  },
  {
   "cell_type": "code",
   "execution_count": 19,
   "metadata": {},
   "outputs": [
    {
     "name": "stdout",
     "output_type": "stream",
     "text": [
      "\n",
      "   Albert Eienstein    \t\n",
      "\n",
      "Albert Eienstein    \t\n",
      "\n",
      "\n",
      "   Albert Eienstein\n",
      "\n",
      "Albert Eienstein\n"
     ]
    }
   ],
   "source": [
    "# 2-7. Stripping Names: Use a variable to represent a person’s name, and\n",
    "# include some whitespace characters at the beginning and end of the name.\n",
    "# Make sure you use each character combination, \"\\t\" and \"\\n\", at least once.\n",
    "# Print the name once, so the whitespace around the name is displayed.\n",
    "# Then print the name using each of the three stripping functions, lstrip(),\n",
    "# rstrip(), and strip().\n",
    "\n",
    "name = \"\\n   Albert Eienstein    \\t\"\n",
    "print(name)\n",
    "print(\"\")\n",
    "print(name.lstrip())\n",
    "print(\"\")\n",
    "print(name.rstrip())\n",
    "print(\"\")\n",
    "print(name.strip())"
   ]
  },
  {
   "cell_type": "code",
   "execution_count": 22,
   "metadata": {},
   "outputs": [
    {
     "name": "stdout",
     "output_type": "stream",
     "text": [
      "python_notes\n"
     ]
    }
   ],
   "source": [
    "# 2-8. File Extensions: Python has a removesuffix() method that works exactly\n",
    "# like removeprefix(). Assign the value 'python_notes.txt' to a variable called\n",
    "# filename. Then use the removesuffix() method to display the filename without\n",
    "# the file extension, like some file browsers do.\n",
    "\n",
    "file_name = \"python_notes.txt\"\n",
    "print(file_name.removesuffix('.txt'))"
   ]
  },
  {
   "cell_type": "code",
   "execution_count": 25,
   "metadata": {},
   "outputs": [
    {
     "name": "stdout",
     "output_type": "stream",
     "text": [
      "8\n",
      "8\n",
      "8\n",
      "8\n"
     ]
    }
   ],
   "source": [
    "# 2-9. Number Eight: Write addition, subtraction, multiplication, and division\n",
    "# operations that each result in the number 8. Be sure to enclose your operations\n",
    "# in print() calls to see the results. You should create four lines that look like this:\n",
    "# print(5+3)\n",
    "# Your output should be four lines, with the number 8 appearing once on\n",
    "# each line.\n",
    "\n",
    "print(1+7)\n",
    "print(14-6)\n",
    "print(4*2)\n",
    "print(int(24/3))"
   ]
  },
  {
   "cell_type": "code",
   "execution_count": 27,
   "metadata": {},
   "outputs": [
    {
     "name": "stdout",
     "output_type": "stream",
     "text": [
      "my favourit number is 8\n"
     ]
    }
   ],
   "source": [
    "# 2-10. Favorite Number: Use a variable to represent your favorite number. Then,\n",
    "# using that variable, create a message that reveals your favorite number. Print\n",
    "# that message.\n",
    "\n",
    "my_number = 8\n",
    "message = f\"my favourit number is {my_number}\" \n",
    "print(message)"
   ]
  },
  {
   "cell_type": "markdown",
   "metadata": {},
   "source": [
    "Chapter 3....\n",
    "LISTS"
   ]
  },
  {
   "cell_type": "code",
   "execution_count": 1,
   "metadata": {},
   "outputs": [
    {
     "name": "stdout",
     "output_type": "stream",
     "text": [
      "Ali\n",
      "Zahid\n",
      "Shahid\n"
     ]
    }
   ],
   "source": [
    "# 3-1. Names: Store the names of a few of your friends in a list called names. Print\n",
    "# each person’s name by accessing each element in the list, one at a time.\n",
    "\n",
    "friends = [\"Ali\", \"Zahid\", \"Shahid\"]\n",
    "print(friends[0])\n",
    "print(friends[1])\n",
    "print(friends[2])"
   ]
  },
  {
   "cell_type": "code",
   "execution_count": 4,
   "metadata": {},
   "outputs": [
    {
     "name": "stdout",
     "output_type": "stream",
     "text": [
      "Hi Ali! You have done great...\n",
      "Hi Zahid! You have done great...\n",
      "Hi Shahid! You have done great...\n"
     ]
    }
   ],
   "source": [
    "# 3-2. Greetings: Start with the list you used in Exercise 3-1, but instead of just\n",
    "# printing each person’s name, print a message to them. The text of each message should be the same, \n",
    "# but each message should be personalized with the person’s name.\n",
    "\n",
    "friends = [\"Ali\", \"Zahid\", \"Shahid\"]\n",
    "\n",
    "print(f\"Hi {friends[0]}! You have done great...\")\n",
    "print(f\"Hi {friends[1]}! You have done great...\")\n",
    "print(f\"Hi {friends[2]}! You have done great...\")\n"
   ]
  },
  {
   "cell_type": "code",
   "execution_count": 6,
   "metadata": {},
   "outputs": [
    {
     "name": "stdout",
     "output_type": "stream",
     "text": [
      " I would prefer to travel on car for university.\n",
      " I would prefer to travel on bus for office.\n",
      " I would prefer to travel on train for visit to Karachi.\n",
      " I would prefer to travel on ship for world tour.\n"
     ]
    }
   ],
   "source": [
    "# 3-3. Your Own List: Think of your favorite mode of transportation, such as a\n",
    "# motorcycle or a car, and make a list that stores several examples. Use your list\n",
    "# to print a series of statements about these items, such as “I would like to own a\n",
    "# Honda motorcycle.”\n",
    "\n",
    "transport = ['car', 'bus', 'train', 'ship']\n",
    "print(f\" I would prefer to travel on {transport[0]} for university.\")\n",
    "print(f\" I would prefer to travel on {transport[1]} for office.\")\n",
    "print(f\" I would prefer to travel on {transport[2]} for visit to Karachi.\")\n",
    "print(f\" I would prefer to travel on {transport[3]} for world tour.\")\n"
   ]
  },
  {
   "cell_type": "code",
   "execution_count": 7,
   "metadata": {},
   "outputs": [
    {
     "name": "stdout",
     "output_type": "stream",
     "text": [
      "Dear Ali. Your are invited for the dinner\n",
      "Dear Zahid. Your are invited for the dinner\n",
      "Dear Shahid. Your are invited for the dinner\n"
     ]
    }
   ],
   "source": [
    "# 3-4. Guest List: If you could invite anyone, living or deceased, to dinner, who\n",
    "# would you invite? Make a list that includes at least three people you’d like to\n",
    "# invite to dinner. Then use your list to print a message to each person, inviting\n",
    "# them to dinner.\n",
    "\n",
    "guests = ['Ali', 'Zahid', 'Shahid']\n",
    "print(f\"Dear {guests[0]}. Your are invited for the dinner\")\n",
    "print(f\"Dear {guests[1]}. Your are invited for the dinner\")\n",
    "print(f\"Dear {guests[2]}. Your are invited for the dinner\")"
   ]
  },
  {
   "cell_type": "code",
   "execution_count": 9,
   "metadata": {},
   "outputs": [
    {
     "name": "stdout",
     "output_type": "stream",
     "text": [
      "['Ali', 'Zahid', 'Shahid']\n",
      "Zahid is not coming so we are inviting Imran\n",
      "Dear Ali. Your are invited for the dinner\n",
      "Dear Imran. Your are invited for the dinner\n",
      "Dear Shahid. Your are invited for the dinner\n"
     ]
    }
   ],
   "source": [
    "# 3-5. Changing Guest List: You just heard that one of your guests can’t make the\n",
    "# dinner, so you need to send out a new set of invitations. You’ll have to think of\n",
    "# someone else to invite.\n",
    "# • Start with your program from Exercise 3-4. Add a print() call at the end of\n",
    "# your program, stating the name of the guest who can’t make it.\n",
    "# • Modify your list, replacing the name of the guest who can’t make it with the\n",
    "# name of the new person you are inviting.\n",
    "# • Print a second set of invitation messages, one for each person who is still in\n",
    "# your list.\n",
    "guests = ['Ali', 'Zahid', 'Shahid']\n",
    "print(guests)\n",
    "print(\"Zahid is not coming so we are inviting Imran\")\n",
    "guests[1] = \"Imran\"\n",
    "print(f\"Dear {guests[0]}. Your are invited for the dinner\")\n",
    "print(f\"Dear {guests[1]}. Your are invited for the dinner\")\n",
    "print(f\"Dear {guests[2]}. Your are invited for the dinner\")"
   ]
  },
  {
   "cell_type": "code",
   "execution_count": 13,
   "metadata": {},
   "outputs": [
    {
     "name": "stdout",
     "output_type": "stream",
     "text": [
      "['Ali', 'Zahid', 'Shahid']\n",
      "We have more guests....\n",
      "['Rehan', 'Ali', 'Bilal', 'Zahid', 'Shahid', 'Saqib']\n"
     ]
    }
   ],
   "source": [
    "# 3-6. More Guests: You just found a bigger dinner table, so now more space is\n",
    "# available. Think of three more guests to invite to dinner.\n",
    "# • Start with your program from Exercise 3-4 or 3-5. Add a print() call to the\n",
    "# end of your program, informing people that you found a bigger table.\n",
    "# • Use insert() to add one new guest to the beginning of your list.\n",
    "# • Use insert() to add one new guest to the middle of your list.\n",
    "# • Use append() to add one new guest to the end of your list.\n",
    "# • Print a new set of invitation messages, one for each person in your list\n",
    "guests = ['Ali', 'Zahid', 'Shahid']\n",
    "print(guests)\n",
    "print(\"We have more guests....\")\n",
    "guests.insert(0, \"Rehan\")\n",
    "guests.insert(2, \"Bilal\")\n",
    "guests.append(\"Saqib\")\n",
    "\n",
    "print(guests)\n",
    "\n"
   ]
  },
  {
   "cell_type": "code",
   "execution_count": 21,
   "metadata": {},
   "outputs": [
    {
     "name": "stdout",
     "output_type": "stream",
     "text": [
      "['Rehan', 'Ali', 'Bilal', 'Zahid', 'Shahid', 'Saqib']\n",
      "I can invite only two people for the dinner\n",
      "Dear Saqib, Sorry You are not invited \n",
      "Dear Shahid, Sorry You are not invited \n",
      "Dear Zahid, Sorry You are not invited \n",
      "Dear Bilal, Sorry You are not invited \n",
      "['Rehan', 'Ali']\n",
      "Dear Rehan, You are still invited...\n",
      "Dear Ali, You are still invited...\n",
      "[]\n"
     ]
    }
   ],
   "source": [
    "# 3-7. Shrinking Guest List: You just found out that your new dinner table won’t\n",
    "# arrive in time for the dinner, and now you have space for only two guests.\n",
    "# • Start with your program from Exercise 3-6. Add a new line that prints a\n",
    "# message saying that you can invite only two people for dinner.\n",
    "# • Use pop() to remove guests from your list one at a time until only two\n",
    "# names remain in your list. Each time you pop a name from your list, print a\n",
    "# message to that person letting them know you’re sorry you can’t invite them\n",
    "# to dinner.\n",
    "# • Print a message to each of the two people still on your list, letting them\n",
    "# know they’re still invited.\n",
    "# • Use del to remove the last two names from your list, so you have an empty\n",
    "# list. Print your list to make sure you actually have an empty list at the end of\n",
    "# your program.\n",
    "\n",
    "guests = ['Rehan', 'Ali', 'Bilal', 'Zahid', 'Shahid', 'Saqib']\n",
    "print(guests)\n",
    "print(\"I can invite only two people for the dinner\")\n",
    "print(f\"Dear {guests.pop()}, Sorry You are not invited \")\n",
    "print(f\"Dear {guests.pop()}, Sorry You are not invited \")\n",
    "print(f\"Dear {guests.pop()}, Sorry You are not invited \")\n",
    "print(f\"Dear {guests.pop()}, Sorry You are not invited \")\n",
    "print(guests)\n",
    "print(f\"Dear {guests[0]}, You are still invited...\")\n",
    "print(f\"Dear {guests[1]}, You are still invited...\")\n",
    "del guests[1]\n",
    "del guests[0]\n",
    "print(guests)"
   ]
  },
  {
   "cell_type": "code",
   "execution_count": 12,
   "metadata": {},
   "outputs": [
    {
     "name": "stdout",
     "output_type": "stream",
     "text": [
      "['Islamabad', 'Karachi', 'Dubai', 'London', 'NewYork']\n",
      "['Dubai', 'Islamabad', 'Karachi', 'London', 'NewYork']\n",
      "['Islamabad', 'Karachi', 'Dubai', 'London', 'NewYork']\n",
      "['NewYork', 'London', 'Karachi', 'Islamabad', 'Dubai']\n",
      "['Islamabad', 'Karachi', 'Dubai', 'London', 'NewYork']\n",
      "['NewYork', 'London', 'Dubai', 'Karachi', 'Islamabad']\n",
      "['Islamabad', 'Karachi', 'Dubai', 'London', 'NewYork']\n",
      "['Dubai', 'Islamabad', 'Karachi', 'London', 'NewYork']\n",
      "['NewYork', 'London', 'Karachi', 'Islamabad', 'Dubai']\n"
     ]
    }
   ],
   "source": [
    "# 3-8. Seeing the World: Think of at least five places in the world you’d like\n",
    "# to visit. Store the locations in a list. Make sure the list is not in alphabetical order.\n",
    "# • Print your list in its original order. Don’t worry about printing the list neatly;\n",
    "# just print it as a raw Python list.\n",
    "# • Use sorted() to print your list in alphabetical order without modifying the actual list.\n",
    "# • Show that your list is still in its original order by printing it.\n",
    "# • Use sorted() to print your list in reverse-alphabetical order without changing the order of the original list.\n",
    "# • Show that your list is still in its original order by printing it again. \n",
    "# Use reverse() to change the #order of your list. Print the list to show that its order has changed.\n",
    "# • Use reverse() to change the order of your list again. Print the list to showit’s back to its original order.\n",
    "# • Use sort() to change your list so it’s stored in alphabetical order. Print the\n",
    "# list to show that its order has been changed.\n",
    "# • Use sort() to change your list so it’s stored in reverse-alphabetical order.\n",
    "# Print the list to show that its order has changed.\n",
    "places = [\"Islamabad\", \"Karachi\", \"Dubai\", \"London\", \"NewYork\"]\n",
    "print(places)\n",
    "print(sorted(places))\n",
    "print(places)\n",
    "print(sorted(places, reverse=True))\n",
    "print(places)\n",
    "places.reverse()\n",
    "print(places)\n",
    "places.reverse()\n",
    "print(places)\n",
    "places.sort()\n",
    "print(places)\n",
    "places.sort(reverse=True)\n",
    "print(places)"
   ]
  },
  {
   "cell_type": "code",
   "execution_count": 13,
   "metadata": {},
   "outputs": [
    {
     "name": "stdout",
     "output_type": "stream",
     "text": [
      "Total 6 guests are invited for the dinner\n"
     ]
    }
   ],
   "source": [
    "# 3-9. Dinner Guests: Working with one of the programs from Exercises 3-4\n",
    "# through 3-7 (pages 41–42), use len() to print a message indicating the number\n",
    "# of people you’re inviting to dinner\n",
    "\n",
    "guests = ['Rehan', 'Ali', 'Bilal', 'Zahid', 'Shahid', 'Saqib']\n",
    "print(f\"Total {len(guests)} guests are invited for the dinner\")"
   ]
  },
  {
   "cell_type": "markdown",
   "metadata": {},
   "source": [
    "Chapter 4\n",
    "Working With Lists"
   ]
  },
  {
   "cell_type": "code",
   "execution_count": 14,
   "metadata": {},
   "outputs": [
    {
     "name": "stdout",
     "output_type": "stream",
     "text": [
      "i like pepproni pizza\n",
      "i like fajita pizza\n",
      "i like bbq pizza\n",
      "I really like the pizaa. \n",
      " its my favourit food outside\n"
     ]
    }
   ],
   "source": [
    "# 4-1. Pizzas: Think of at least three kinds of your favorite pizza. Store these\n",
    "# pizza names in a list, and then use a for loop to print the name of each pizza.\n",
    "# • Modify your for loop to print a sentence using the name of the pizza,\n",
    "# instead of printing just the name of the pizza. For each pizza, you should\n",
    "# have one line of output containing a simple statement like I like pepperoni pizza.\n",
    "# • Add a line at the end of your program, outside the for loop, that states\n",
    "# how much you like pizza. The output should consist of three or more lines\n",
    "# about the kinds of pizza you like and then an additional sentence, such as\n",
    "# I really love pizza!\n",
    "pizza : list[str] = [\"pepproni\", \"fajita\", \"bbq\"]\n",
    "\n",
    "for p in pizza:\n",
    "    print(f\"i like {p} pizza\")\n",
    "\n",
    "print(\"I really like the pizaa. \\n its my favourit food outside\")"
   ]
  },
  {
   "cell_type": "code",
   "execution_count": 15,
   "metadata": {},
   "outputs": [
    {
     "name": "stdout",
     "output_type": "stream",
     "text": [
      "a cat is a good pet.\n",
      "a dog is a good pet.\n",
      "a horse is a good pet.\n",
      "Any of these animals would be a good pet\n"
     ]
    }
   ],
   "source": [
    "# 4-2. Animals: Think of at least three different animals that have a common characteristic. \n",
    "# Store the names of these animals in a list, and then use a for loop to print out the name of each animal.\n",
    "# • Modify your program to print a statement about each animal, such as A\n",
    "# dog would make a great pet.\n",
    "# • Add a line at the end of your program, stating what these animals have in\n",
    "# common. You could print a sentence, such as Any of these animals would\n",
    "# make a great pet!\n",
    "\n",
    "pets : list[str] = [\"cat\", \"dog\", \"horse\"]\n",
    "for pet in pets:\n",
    "    print(f\"a {pet} is a good pet.\")\n",
    "print(\"Any of these animals would be a good pet\")"
   ]
  },
  {
   "cell_type": "code",
   "execution_count": 28,
   "metadata": {},
   "outputs": [
    {
     "name": "stdout",
     "output_type": "stream",
     "text": [
      "[1, 2, 3, 4, 5, 6, 7, 8, 9, 10, 11, 12, 13, 14, 15, 16, 17, 18, 19, 20]\n"
     ]
    }
   ],
   "source": [
    "# 4-3. Counting to Twenty: Use a for loop to print the numbers from 1 to 20,\n",
    "# inclusive.\n",
    "\n",
    "numbers = list(range(1, 21))\n",
    "print(numbers)"
   ]
  },
  {
   "cell_type": "code",
   "execution_count": null,
   "metadata": {},
   "outputs": [],
   "source": [
    "# 4-4. One Million: Make a list of the numbers from one to one million, and then\n",
    "# use a for loop to print the numbers. (If the output is taking too long, stop it by\n",
    "# pressing CTRL-C or by closing the output window.)\n",
    "numbers = list(range(1, 1000001))\n",
    "for number in numbers:\n",
    "    print(number)\n",
    "\n"
   ]
  },
  {
   "cell_type": "code",
   "execution_count": 31,
   "metadata": {},
   "outputs": [
    {
     "name": "stdout",
     "output_type": "stream",
     "text": [
      "1\n",
      "1000000\n",
      "500000500000\n"
     ]
    }
   ],
   "source": [
    "# 4-5. Summing a Million: Make a list of the numbers from one to one million, and\n",
    "# then use min() and max() to make sure your list actually starts at one and ends\n",
    "# at one million. Also, use the sum() function to see how quickly Python can add\n",
    "# a million numbers.\n",
    "numbers = list(range(1, 1000001))\n",
    "print(min(numbers))\n",
    "print(max(numbers))\n",
    "print(sum(numbers))"
   ]
  },
  {
   "cell_type": "code",
   "execution_count": 32,
   "metadata": {},
   "outputs": [
    {
     "name": "stdout",
     "output_type": "stream",
     "text": [
      "1\n",
      "3\n",
      "5\n",
      "7\n",
      "9\n",
      "11\n",
      "13\n",
      "15\n",
      "17\n",
      "19\n"
     ]
    }
   ],
   "source": [
    "# 4-6. Odd Numbers: Use the third argument of the range() function to make a list\n",
    "# of the odd numbers from 1 to 20. Use a for loop to print each number.\n",
    "\n",
    "numbers = list(range(1, 20, 2))\n",
    "for n in numbers:\n",
    "    print(n)"
   ]
  },
  {
   "cell_type": "code",
   "execution_count": 33,
   "metadata": {},
   "outputs": [
    {
     "name": "stdout",
     "output_type": "stream",
     "text": [
      "3\n",
      "6\n",
      "9\n",
      "12\n",
      "15\n",
      "18\n",
      "21\n",
      "24\n",
      "27\n",
      "30\n"
     ]
    }
   ],
   "source": [
    "# 4-7. Threes: Make a list of the multiples of 3, from 3 to 30. Use a for loop to\n",
    "# print the numbers in your list.\n",
    "numbers = list(range(3, 31, 3))\n",
    "for n in numbers:\n",
    "    print(n)"
   ]
  },
  {
   "cell_type": "code",
   "execution_count": 34,
   "metadata": {},
   "outputs": [
    {
     "name": "stdout",
     "output_type": "stream",
     "text": [
      "[1, 8, 27, 64, 125, 216, 343, 512, 729, 1000]\n"
     ]
    }
   ],
   "source": [
    "#4.8: n. Make a list of the first 10 cubes (that is, the cube of each integer from 1 through 10)\n",
    "# , and use a for loop to print out  the value of each cube.\n",
    "num_cubes : list[int] =[]\n",
    "for n in range(1,11):\n",
    "    num_cubes.append(n**3)\n",
    "print(num_cubes)"
   ]
  },
  {
   "cell_type": "code",
   "execution_count": 35,
   "metadata": {},
   "outputs": [
    {
     "name": "stdout",
     "output_type": "stream",
     "text": [
      "[1, 8, 27, 64, 125, 216, 343, 512, 729, 1000]\n"
     ]
    }
   ],
   "source": [
    "# 4-9. Cube Comprehension: Use a list comprehension to generate a list of the first 10 cubes.\n",
    "\n",
    "numbers = [n**3 for n in range(1, 11)]\n",
    "print(numbers)"
   ]
  },
  {
   "cell_type": "code",
   "execution_count": 55,
   "metadata": {},
   "outputs": [
    {
     "name": "stdout",
     "output_type": "stream",
     "text": [
      "[2, 4, 6, 8, 10, 12, 14, 16, 18, 20]\n",
      "First three items in the list are [2, 4, 6]\n",
      "Middle three items in the list are [10, 12, 14]\n",
      "Last three items in the list are [16, 18, 20]\n"
     ]
    }
   ],
   "source": [
    "# 4-10. Slices: Using one of the programs you wrote in this chapter, add several\n",
    "# lines to the end of the program that do the following:\n",
    "# • Print the message The first three items in the list are:. Then use a slice to\n",
    "# print the first three items from that program’s list.\n",
    "# • Print the message Three items from the middle of the list are:. Then use a\n",
    "# slice to print three items from the middle of the list.\n",
    "# • Print the message The last three items in the list are:. Then use a slice to\n",
    "# print the last three items in the list.\n",
    "\n",
    "numbers = list(range(2, 21, 2))\n",
    "print(numbers)\n",
    "print(f\"First three items in the list are {numbers[0:3]}\")\n",
    "middle = int(len(numbers)/2)\n",
    "print(f\"Middle three items in the list are {numbers[middle-1:middle+2]}\")\n",
    "print(f\"Last three items in the list are {numbers[-3:]}\")\n"
   ]
  },
  {
   "cell_type": "code",
   "execution_count": 61,
   "metadata": {},
   "outputs": [
    {
     "name": "stdout",
     "output_type": "stream",
     "text": [
      "My favourite pizzas are:  ['pepproni', 'fajita', 'bbq', 'tikka']\n",
      "My friends favourite pizzas are:  ['pepproni', 'fajita', 'bbq', 'cheese']\n"
     ]
    }
   ],
   "source": [
    "# 4-11. My Pizzas, Your Pizzas: Start with your program from Exercise 4-1 (page 56).\n",
    "# Make a copy of the list of pizzas, and call it friend_pizzas. Then, do the\n",
    "# following:\n",
    "# • Add a new pizza to the original list.\n",
    "# • Add a different pizza to the list friend_pizzas.\n",
    "# • Prove that you have two separate lists. Print the message My favorite pizzas are:, and then use a for loop to print the first list. \n",
    "# Print the message My friend’s favorite pizzas are:, and then use a for loop to print the second list.\n",
    "# Make sure each new pizza is stored in the appropriate list.\n",
    "pizza : list[str] = [\"pepproni\", \"fajita\", \"bbq\"]\n",
    "friends_pizza = pizza[:]\n",
    "\n",
    "pizza.append(\"tikka\")\n",
    "friends_pizza.append(\"cheese\")\n",
    "print(\"My favourite pizzas are: \", pizza)\n",
    "print(\"My friends favourite pizzas are: \", friends_pizza)\n"
   ]
  },
  {
   "cell_type": "code",
   "execution_count": 65,
   "metadata": {},
   "outputs": [
    {
     "name": "stdout",
     "output_type": "stream",
     "text": [
      "rice\n",
      "chinese\n",
      "pasta\n",
      "ice cream\n",
      "drinks\n",
      "rice\n",
      "chinese\n",
      "pizza\n",
      "karahi\n",
      "drinks\n"
     ]
    }
   ],
   "source": [
    "# 4-13. Buffet: A buffet-style restaurant offers only five basic foods. Think of five\n",
    "# simple foods, and store them in a tuple.\n",
    "# • Use a for loop to print each food the restaurant offers.\n",
    "# • Try to modify one of the items, and make sure that Python rejects the\n",
    "# change.\n",
    "# • The restaurant changes its menu, replacing two of the items with different\n",
    "# foods. Add a line that rewrites the tuple, and then use a for loop to print\n",
    "# each of the items on the revised menu.\n",
    "\n",
    "menus = (\"rice\", \"chinese\", \"pasta\", \"ice cream\", \"drinks\")\n",
    "for menu in menus:\n",
    "    print(menu)\n",
    "# menus[1] = \"crispies\" \n",
    "revised_menu = (\"rice\", \"chinese\", \"pizza\", \"karahi\", \"drinks\")\n",
    "for menu in revised_menu:\n",
    "    print(menu)\n"
   ]
  },
  {
   "cell_type": "markdown",
   "metadata": {},
   "source": [
    "Chapter 5\n",
    "If Statements"
   ]
  },
  {
   "cell_type": "code",
   "execution_count": 68,
   "metadata": {},
   "outputs": [
    {
     "name": "stdout",
     "output_type": "stream",
     "text": [
      "Is car == 'subaru'? I predict True.\n",
      "True\n",
      "\n",
      "Is car == 'audi'? I predict False.\n",
      "False\n",
      "Is num > 50? I prdict True.\n",
      "True\n",
      "Is num < 50? I prdict False.\n",
      "False\n"
     ]
    }
   ],
   "source": [
    "# 5-1. Conditional Tests: Write a series of conditional tests. Print a statement\n",
    "# describing each test and your prediction for the results of each test. Your code\n",
    "# • Look closely at your results, and make sure you understand why each line\n",
    "# evaluates to True or False.\n",
    "# • Create at least 10 tests. Have at least 5 tests evaluate to True and another\n",
    "# 5 tests evaluate to False\n",
    "\n",
    "car = 'subaru'\n",
    "print(\"Is car == 'subaru'? I predict True.\")\n",
    "print(car == 'subaru')\n",
    "print(\"\\nIs car == 'audi'? I predict False.\")\n",
    "print(car == 'audi')\n",
    "\n",
    "num = 60\n",
    "print(\"Is num > 50? I prdict True.\")\n",
    "print(num > 50)\n",
    "print(\"Is num < 50? I prdict False.\")\n",
    "print(num < 50)"
   ]
  },
  {
   "cell_type": "code",
   "execution_count": 2,
   "metadata": {},
   "outputs": [
    {
     "name": "stdout",
     "output_type": "stream",
     "text": [
      "The player just erned 5 points.\n"
     ]
    }
   ],
   "source": [
    "# 5-3. Alien Colors #1: Imagine an alien was just shot down in a game. Create a\n",
    "# variable called alien_color and assign it a value of 'green', 'yellow', or 'red'.\n",
    "# • Write an if statement to test whether the alien’s color is green. If it is, print\n",
    "# a message that the player just earned 5 points.\n",
    "# • Write one version of this program that passes the if test and another that\n",
    "# fails. (The version that fails will have no output.)\n",
    "\n",
    "alien_color : str = \"green\"\n",
    "\n",
    "if alien_color == \"green\":\n",
    "    print(\"The player just erned 5 points.\")\n",
    "\n",
    "alien_color = \"red\"\n",
    "if alien_color == \"yellow\":\n",
    "    print(\"The player just erned 3 points.\")"
   ]
  },
  {
   "cell_type": "code",
   "execution_count": 2,
   "metadata": {},
   "outputs": [
    {
     "name": "stdout",
     "output_type": "stream",
     "text": [
      "The player just erned 10 points.\n"
     ]
    }
   ],
   "source": [
    "# 5-4. Alien Colors #2: Choose a color for an alien as you did in Exercise 5-3,\n",
    "# and write an if-else chain.\n",
    "# • If the alien’s color is green, print a statement that the player just earned 5\n",
    "# points for shooting the alien.\n",
    "# • If the alien’s color isn’t green, print a statement that the player just earned\n",
    "# 10 points.\n",
    "# • Write one version of this program that runs the if block and another that\n",
    "# runs the else block.\n",
    "alien_color : str = \"red\"\n",
    "\n",
    "if alien_color == \"green\":\n",
    "    print(\"The player just erned 5 points.\")\n",
    "else:\n",
    "    print(\"The player just erned 10 points.\")\n",
    "\n"
   ]
  },
  {
   "cell_type": "code",
   "execution_count": 5,
   "metadata": {},
   "outputs": [
    {
     "name": "stdout",
     "output_type": "stream",
     "text": [
      "The player just erned 15 points.\n"
     ]
    }
   ],
   "source": [
    "# 5-5. Alien Colors #3: Turn your if-else chain from Exercise 5-4 into an if-elifelse chain.\n",
    "# • If the alien is green, print a message that the player earned 5 points.\n",
    "# • If the alien is yellow, print a message that the player earned 10 points.\n",
    "# • If the alien is red, print a message that the player earned 15 points.\n",
    "# • Write three versions of this program, making sure each message is printed for the appropriate color alien.\n",
    "alien_color : str = \"red\"\n",
    "\n",
    "if alien_color == \"green\":\n",
    "    print(\"The player just erned 5 points.\")\n",
    "elif alien_color == \"yellow\":\n",
    "    print(\"The player just erned 10 points.\")\n",
    "elif alien_color == \"red\":\n",
    "    print(\"The player just erned 15 points.\")\n",
    "\n"
   ]
  },
  {
   "cell_type": "code",
   "execution_count": 9,
   "metadata": {},
   "outputs": [
    {
     "name": "stdout",
     "output_type": "stream",
     "text": [
      "The person is a toddler\n"
     ]
    }
   ],
   "source": [
    "# 5-6. Stages of Life: Write an if-elif-else chain that determines a person’s stage\n",
    "# of life. Set a value for the variable age, and then:\n",
    "# • If the person is less than 2 years old, print a message that the person is\n",
    "# a baby.\n",
    "# • If the person is at least 2 years old but less than 4, print a message that the\n",
    "# person is a toddler.\n",
    "# • If the person is at least 4 years old but less than 13, print a message that\n",
    "# the person is a kid.\n",
    "# • If the person is at least 13 years old but less than 20, print a message that\n",
    "# the person is a teenager.\n",
    "# • If the person is at least 20 years old but less than 65, print a message that\n",
    "# the person is an adult.\n",
    "# • If the person is age 65 or older, print a message that the person is an elder.\n",
    "\n",
    "age : int = 3\n",
    "\n",
    "if age < 2:\n",
    "    print(\"The person is a baby\")\n",
    "elif age >= 2 and age < 4:\n",
    "    print(\"The person is a toddler\")\n",
    "elif age >= 4 and age < 13:\n",
    "    print(\"The person is a kid\")\n",
    "elif age >= 13 and age < 20:\n",
    "    print(\"The person is a teenager\")\n",
    "elif age >= 20 and age < 65:\n",
    "    print(\"The person is a adult\")\n",
    "else:\n",
    "    print(\"The person is an elder\")"
   ]
  },
  {
   "cell_type": "code",
   "execution_count": 12,
   "metadata": {},
   "outputs": [
    {
     "name": "stdout",
     "output_type": "stream",
     "text": [
      "Banana is your favourit fruit\n",
      "apple is your favourit fruit\n",
      "peach is your favourit fruit\n"
     ]
    }
   ],
   "source": [
    "# 5-7. Favorite Fruit: Make a list of your favorite fruits, and then write a series of\n",
    "# independent if statements that check for certain fruits in your list.\n",
    "# • Make a list of your three favorite fruits and call it favorite_fruits.\n",
    "# • Write five if statements. Each should check whether a certain kind of fruit\n",
    "# is in your list. If the fruit is in your list, the if block should print a statement,\n",
    "# such as You really like bananas!\n",
    "\n",
    "favourite_fruits : list[str] = [\"banana\", \"apple\", \"peach\"]\n",
    "\n",
    "if \"banana\" in favourite_fruits:\n",
    "    print(\"Banana is your favourit fruit\")\n",
    "if \"apple\" in favourite_fruits:\n",
    "    print(\"apple is your favourit fruit\")\n",
    "if \"peach\" in favourite_fruits:\n",
    "    print(\"peach is your favourit fruit\")\n",
    "if \"mango\" in favourite_fruits:\n",
    "    print(\"mango is your favourit fruit\")\n",
    "if \"grapes\" in favourite_fruits:\n",
    "    print(\"grapes is your favourit fruit\")"
   ]
  },
  {
   "cell_type": "code",
   "execution_count": 16,
   "metadata": {},
   "outputs": [
    {
     "name": "stdout",
     "output_type": "stream",
     "text": [
      "Hello admin, would you like to see a status report\n",
      "Hello saghir, thank you for logging in again\n",
      "Hello root, thank you for logging in again\n",
      "Hello guest, thank you for logging in again\n",
      "Hello rehan, thank you for logging in again\n"
     ]
    }
   ],
   "source": [
    "# 5-8. Hello Admin: Make a list of five or more usernames, including the name\n",
    "# 'admin'. Imagine you are writing code that will print a greeting to each user\n",
    "# after they log in to a website. Loop through the list, and print a greeting to\n",
    "# each user.\n",
    "# • If the username is 'admin', print a special greeting, such as Hello admin,\n",
    "# would you like to see a status report?\n",
    "# • Otherwise, print a generic greeting, such as Hello Jaden, thank you for\n",
    "# logging in again.\n",
    "\n",
    "usernames : list[str] = [\"admin\", \"saghir\", \"root\", \"guest\", \"rehan\"]\n",
    "\n",
    "for username in usernames:\n",
    "    if username == \"admin\":\n",
    "        print(f\"Hello {username}, would you like to see a status report\")\n",
    "    else:\n",
    "        print(f\"Hello {username}, thank you for logging in again\")"
   ]
  },
  {
   "cell_type": "code",
   "execution_count": 18,
   "metadata": {},
   "outputs": [
    {
     "name": "stdout",
     "output_type": "stream",
     "text": [
      "We need to find some users!\n"
     ]
    }
   ],
   "source": [
    "# 5-9. No Users: Add an if test to hello_admin.py to make sure the list of users is\n",
    "# not empty.\n",
    "# • If the list is empty, print the message We need to find some users!\n",
    "# • Remove all of the usernames from your list, and make sure the correct message is printed.\n",
    "\n",
    "usernames.clear()\n",
    "if usernames:\n",
    "    for username in usernames:\n",
    "        if username == \"admin\":\n",
    "            print(f\"Hello {username}, would you like to see a status report\")\n",
    "        else:\n",
    "            print(f\"Hello {username}, thank you for logging in again\")\n",
    "else:\n",
    "    print(\"We need to find some users!\")"
   ]
  },
  {
   "cell_type": "code",
   "execution_count": 21,
   "metadata": {},
   "outputs": [
    {
     "name": "stdout",
     "output_type": "stream",
     "text": [
      "user name 'bilal' avaialable\n",
      "user name 'azhar' not available\n",
      "user name 'noman' avaialable\n",
      "user name 'guest' avaialable\n",
      "user name 'zia' not available\n"
     ]
    }
   ],
   "source": [
    "# 5-10. Checking Usernames: Do the following to create a program that simulates\n",
    "# how websites ensure that everyone has a unique username.\n",
    "# • Make a list of five or more usernames called current_users.\n",
    "# • Make another list of five usernames called new_users. Make sure one or\n",
    "# two of the new usernames are also in the current_users list.\n",
    "# • Loop through the new_users list to see if each new username has already\n",
    "# been used. If it has, print a message that the person will need to enter a\n",
    "# new username. If a username has not been used, print a message saying\n",
    "# that the username is available.\n",
    "# • Make sure your comparison is case insensitive. If 'John' has been used,\n",
    "# 'JOHN' should not be accepted. (To do this, you’ll need to make a copy of\n",
    "# current_users containing the lowercase versions of all existing users.)\n",
    "\n",
    "current_users = [\"rehan\", \"Azhar\", \"sajid\", \"admin\", \"zia\"]\n",
    "current_users2 = [user.lower() for user in current_users]\n",
    "new_users =  [\"bilal\", \"azhar\", \"noman\", \"guest\", \"zia\"]\n",
    "\n",
    "for user in new_users:\n",
    "    if user in current_users2:\n",
    "        print(f\"user name '{user}' not available\")\n",
    "    else:\n",
    "        print(f\"user name '{user}' avaialable\")"
   ]
  },
  {
   "cell_type": "code",
   "execution_count": 22,
   "metadata": {},
   "outputs": [
    {
     "name": "stdout",
     "output_type": "stream",
     "text": [
      "1st\n",
      "2nd\n",
      "3rd\n",
      "4th\n",
      "5th\n",
      "6th\n",
      "7th\n",
      "8th\n",
      "9th\n"
     ]
    }
   ],
   "source": [
    "# 5-11. Ordinal Numbers: Ordinal numbers indicate their position in a list, such as\n",
    "# 1st or 2nd. Most ordinal numbers end in th, except 1, 2, and 3.\n",
    "# • Store the numbers 1 through 9 in a list.\n",
    "# • Loop through the list.\n",
    "# • Use an if-elif-else chain inside the loop to print the proper ordinal ending\n",
    "# for each number. Your output should read \"1st 2nd 3rd 4th 5th 6th 7th\n",
    "# 8th 9th\", and each result should be on a separate line.\n",
    "\n",
    "numbers = range(1, 10)\n",
    "\n",
    "for n in numbers:\n",
    "    if n==1:\n",
    "        print(f\"{n}st\")\n",
    "    elif n==2:\n",
    "        print(f\"{n}nd\")\n",
    "    elif n==3:\n",
    "        print(f\"{n}rd\")\n",
    "    else:\n",
    "        print(f\"{n}th\")"
   ]
  },
  {
   "cell_type": "code",
   "execution_count": null,
   "metadata": {},
   "outputs": [],
   "source": []
  }
 ],
 "metadata": {
  "kernelspec": {
   "display_name": "Python 3",
   "language": "python",
   "name": "python3"
  },
  "language_info": {
   "codemirror_mode": {
    "name": "ipython",
    "version": 3
   },
   "file_extension": ".py",
   "mimetype": "text/x-python",
   "name": "python",
   "nbconvert_exporter": "python",
   "pygments_lexer": "ipython3",
   "version": "3.12.1"
  }
 },
 "nbformat": 4,
 "nbformat_minor": 2
}
